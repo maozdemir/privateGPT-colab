{
  "nbformat": 4,
  "nbformat_minor": 0,
  "metadata": {
    "colab": {
      "provenance": [],
      "gpuType": "T4",
      "authorship_tag": "ABX9TyMABXx5emwLbbW8/bcj4XHl",
      "include_colab_link": true
    },
    "kernelspec": {
      "name": "python3",
      "display_name": "Python 3"
    },
    "language_info": {
      "name": "python"
    },
    "accelerator": "GPU",
    "gpuClass": "standard"
  },
  "cells": [
    {
      "cell_type": "markdown",
      "metadata": {
        "id": "view-in-github",
        "colab_type": "text"
      },
      "source": [
        "<a href=\"https://colab.research.google.com/gist/maozdemir/07faf24400fd346f58b363ae5e86bb78/privategpt.ipynb\" target=\"_parent\"><img src=\"https://colab.research.google.com/assets/colab-badge.svg\" alt=\"Open In Colab\"/></a>"
      ]
    },
    {
      "cell_type": "code",
      "execution_count": null,
      "metadata": {
        "id": "Svl343pw0hlG"
      },
      "outputs": [],
      "source": [
        "%cd /content\n",
        "!git clone https://github.com/imartinez/privateGPT"
      ]
    },
    {
      "cell_type": "code",
      "source": [
        "%cd /content/privateGPT\n",
        "!pip3 install -r requirements.txt\n",
        "\n",
        "%cd /content\n",
        "!rm -rf langchain\n",
        "!rm -rf llama-cpp-python\n",
        "!git clone https://github.com/hwchase17/langchain\n",
        "!git clone https://github.com/abetlen/llama-cpp-python\n",
        "%cd llama-cpp-python/vendor\n",
        "!git clone https://github.com/ggerganov/llama.cpp\n",
        "\n",
        "%cd /content\n",
        "\n",
        "!pip3 uninstall llama-cpp-python\n",
        "!pip3 install scikit-build\n",
        "%cd /content/llama-cpp-python\n",
        "!CMAKE_ARGS=\"-DLLAMA_CUBLAS=on\" FORCE_CMAKE=1 python3 ./setup.py install\n",
        "\n",
        "%cd /content/langchain\n",
        "!pip3 uninstall langchain\n",
        "!pip3 install -e ."
      ],
      "metadata": {
        "id": "tGVg-tfi0zxb"
      },
      "execution_count": null,
      "outputs": []
    },
    {
      "cell_type": "code",
      "source": [
        "!mkdir /content/privateGPT/models/\n",
        "%cd /content/privateGPT/models/\n",
        "!wget https://huggingface.co/TheBloke/koala-7B-GGML/resolve/main/koala-7B.ggml.q4_0.bin"
      ],
      "metadata": {
        "id": "2qopnwcq9skt"
      },
      "execution_count": null,
      "outputs": []
    },
    {
      "cell_type": "code",
      "source": [
        "!mv /content/privateGPT/example.env /content/privateGPT/.env "
      ],
      "metadata": {
        "id": "pk1pUoMH-DMl"
      },
      "execution_count": null,
      "outputs": []
    },
    {
      "cell_type": "code",
      "source": [
        "!apt install pandoc\n",
        "!pip3 install unstructured"
      ],
      "metadata": {
        "id": "jhHm780qJ117"
      },
      "execution_count": null,
      "outputs": []
    },
    {
      "cell_type": "code",
      "source": [
        "%cd  /content/privateGPT/\n",
        "!python3 ingest.py"
      ],
      "metadata": {
        "id": "-TTp7iP31avS"
      },
      "execution_count": null,
      "outputs": []
    },
    {
      "cell_type": "code",
      "source": [
        "!python3 privateGPT.py"
      ],
      "metadata": {
        "id": "B5ix9BwCD1Zu"
      },
      "execution_count": null,
      "outputs": []
    },
    {
      "cell_type": "code",
      "source": [
        "!rm -rf /content/privateGPT/db"
      ],
      "metadata": {
        "id": "3kmoljK9GQIn"
      },
      "execution_count": null,
      "outputs": []
    },
    {
      "cell_type": "code",
      "source": [
        "!zip -r /content/db.zip /content/privateGPT/db\n"
      ],
      "metadata": {
        "id": "VGrB8tGR1NE4"
      },
      "execution_count": null,
      "outputs": []
    }
  ]
}
