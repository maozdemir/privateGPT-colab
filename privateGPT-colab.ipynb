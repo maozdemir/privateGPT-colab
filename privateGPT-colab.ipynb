{
  "nbformat": 4,
  "nbformat_minor": 0,
  "metadata": {
    "colab": {
      "provenance": [],
      "gpuType": "T4"
    },
    "kernelspec": {
      "name": "python3",
      "display_name": "Python 3"
    },
    "language_info": {
      "name": "python"
    },
    "accelerator": "GPU",
    "gpuClass": "standard"
  },
  "cells": [
    {
      "cell_type": "code",
      "execution_count": null,
      "metadata": {
        "id": "Svl343pw0hlG"
      },
      "outputs": [],
      "source": [
        "# Install the GPU branch\n",
        "%cd /content\n",
        "!git clone -b gpu https://github.com/maozdemir/privateGPT"
      ]
    },
    {
      "cell_type": "code",
      "source": [
        "# Install dependencies\n",
        "%cd /content/privateGPT\n",
        "!pip3 install -r requirements.txt\n",
        "\n",
        "%cd /content\n",
        "!rm -rf langchain\n",
        "!rm -rf llama-cpp-python\n",
        "!git clone https://github.com/hwchase17/langchain\n",
        "!git clone https://github.com/abetlen/llama-cpp-python\n",
        "%cd llama-cpp-python/vendor\n",
        "!git clone https://github.com/ggerganov/llama.cpp\n",
        "\n",
        "%cd /content\n",
        "\n",
        "!pip3 uninstall llama-cpp-python -y\n",
        "!pip3 install scikit-build\n",
        "%cd /content/llama-cpp-python\n",
        "!CMAKE_ARGS=\"-DLLAMA_CUBLAS=on\" FORCE_CMAKE=1 python3 ./setup.py install\n",
        "\n",
        "%cd /content/langchain\n",
        "!pip3 uninstall langchain -y\n",
        "!pip3 install -e ."
      ],
      "metadata": {
        "id": "tGVg-tfi0zxb"
      },
      "execution_count": null,
      "outputs": []
    },
    {
      "cell_type": "code",
      "source": [
        "# Install Koala 7B GGML Q4\n",
        "!mkdir /content/privateGPT/models/\n",
        "%cd /content/privateGPT/models/\n",
        "!wget https://huggingface.co/TheBloke/koala-7B-GGML/resolve/main/koala-7B.ggml.q4_0.bin"
      ],
      "metadata": {
        "id": "2qopnwcq9skt"
      },
      "execution_count": null,
      "outputs": []
    },
    {
      "cell_type": "code",
      "source": [
        "# Modify .env\n",
        "!mv /content/privateGPT/example.env /content/privateGPT/.env \n",
        "!sed -i 's/n_gpu_layers=10/n_gpu_layers=500/' /content/privateGPT/.env \n",
        "!sed -i 's/MODEL_TYPE=GPT4All/MODEL_TYPE=LlamaCpp/' /content/privateGPT/.env \n",
        "!sed -i 's/ggml-gpt4all-j-v1.3-groovy.bin/koala-7B.ggml.q4_0.bin/' /content/privateGPT/.env "
      ],
      "metadata": {
        "id": "pk1pUoMH-DMl"
      },
      "execution_count": null,
      "outputs": []
    },
    {
      "cell_type": "code",
      "source": [
        "# These were required before (for some filetypes), idk now\n",
        "!apt install pandoc\n",
        "!pip3 install unstructured"
      ],
      "metadata": {
        "id": "jhHm780qJ117"
      },
      "execution_count": null,
      "outputs": []
    },
    {
      "cell_type": "code",
      "source": [
        "# Ingest sources\n",
        "%cd  /content/privateGPT/\n",
        "!python3 ingest.py"
      ],
      "metadata": {
        "id": "-TTp7iP31avS"
      },
      "execution_count": null,
      "outputs": []
    },
    {
      "cell_type": "code",
      "source": [
        "# Run the chatbot\n",
        "!python3 privateGPT.py"
      ],
      "metadata": {
        "id": "B5ix9BwCD1Zu"
      },
      "execution_count": null,
      "outputs": []
    },
    {
      "cell_type": "code",
      "source": [
        "# Clear database\n",
        "!rm -rf /content/privateGPT/db"
      ],
      "metadata": {
        "id": "3kmoljK9GQIn"
      },
      "execution_count": null,
      "outputs": []
    },
    {
      "cell_type": "code",
      "source": [
        "# Zip the database if will reuse without recreating vectors\n",
        "!zip -r /content/db.zip /content/privateGPT/db\n"
      ],
      "metadata": {
        "id": "VGrB8tGR1NE4"
      },
      "execution_count": null,
      "outputs": []
    }
  ]
}
